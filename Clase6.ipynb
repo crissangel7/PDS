{
  "nbformat": 4,
  "nbformat_minor": 0,
  "metadata": {
    "colab": {
      "provenance": []
    },
    "kernelspec": {
      "name": "python3",
      "display_name": "Python 3"
    },
    "language_info": {
      "name": "python"
    }
  },
  "cells": [
    {
      "cell_type": "markdown",
      "source": [
        "## Ejemplo clase 6\n",
        "### Correlacion de 2 señales discretas aleatorias bilaterales representadas en secuencias"
      ],
      "metadata": {
        "id": "lAMDGVq8zk-o"
      }
    },
    {
      "cell_type": "code",
      "execution_count": 3,
      "metadata": {
        "colab": {
          "base_uri": "https://localhost:8080/",
          "height": 612
        },
        "id": "0wbpGcc9zDIi",
        "outputId": "384674d5-9683-4752-aea0-db50b56c07e8"
      },
      "outputs": [
        {
          "output_type": "stream",
          "name": "stdout",
          "text": [
            "Señal 1 de tamaño:  13  con origen:  1\n",
            "Señal 2 de tamaño:  17  con origen:  16\n"
          ]
        },
        {
          "output_type": "display_data",
          "data": {
            "text/plain": [
              "<Figure size 432x288 with 2 Axes>"
            ],
            "image/png": "[encoded data removed]"
          },
          "metadata": {
            "needs_background": "light"
          }
        },
        {
          "output_type": "stream",
          "name": "stdout",
          "text": [
            "[5, 6, 8, 0, 9, -6, -8, 7, -10, -8, -5, -2, 10, 4, -2, 8, 5]\n"
          ]
        },
        {
          "output_type": "display_data",
          "data": {
            "text/plain": [
              "<Figure size 432x288 with 1 Axes>"
            ],
            "image/png": "[encoded data removed]"
          },
          "metadata": {
            "needs_background": "light"
          }
        }
      ],
      "source": [
        "import random\n",
        "import matplotlib.pyplot as plt\n",
        "import numpy as np\n",
        "\n",
        "#tamaño maximo de las señales\n",
        "tam = 20\n",
        "t1 = random.randint(2, tam)\n",
        "t2 = random.randint(2, tam)\n",
        "\n",
        "#Centro de cada señal\n",
        "c1 = random.randint(0, t1)\n",
        "c2 = random.randint(0, t2)\n",
        "\n",
        "#Señales aleatorias\n",
        "senal1 = [random.randint(-10, 10) for _ in range(t1)]\n",
        "senal2 = [random.randint(-10, 10) for _ in range(t2)]\n",
        "\n",
        "print(\"Señal 1 de tamaño: \",t1,\" con origen: \",c1)\n",
        "print(\"Señal 2 de tamaño: \",t2,\" con origen: \",c2)\n",
        "\n",
        "inicio1 = int(0-c1+1)\n",
        "final1 = int(t1-c1+1)\n",
        "inicio2 = int(0-c2+1)\n",
        "final2 = int(t2-c2+1)\n",
        "\n",
        "time1 = np.arange(inicio1,final1)\n",
        "time2 = np.arange(inicio2,final2)\n",
        "\n",
        "# Graficando ambas señales\n",
        "fig, (ax1, ax2) = plt.subplots(1, 2)\n",
        "ax1.stem(time1,senal1)\n",
        "ax1.set_title(\"Señal 1\")\n",
        "ax2.stem(time2,senal2)\n",
        "ax2.set_title(\"Señal 2\")\n",
        "ax1.grid()\n",
        "ax2.grid()\n",
        "\n",
        "# Ajustar el espacio entre subgráficos\n",
        "fig.tight_layout()\n",
        "plt.show()\n",
        "\n",
        "print(senal2)\n",
        "z = np.correlate(senal1, senal2, mode='full')\n",
        "i = int(inicio1-inicio2)\n",
        "f = int(final1+final2-1)\n",
        "t = np.arange(i,f)\n",
        "\n",
        "plt.stem(z)\n",
        "plt.title(\"Correlación de ambas Señales\")\n",
        "plt.grid()\n",
        "plt.show()"
      ]
    }
  ]
}